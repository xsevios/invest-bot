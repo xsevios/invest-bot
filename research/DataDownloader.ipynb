{
 "cells": [
  {
   "cell_type": "code",
   "execution_count": 1,
   "outputs": [],
   "source": [
    "import os\n",
    "import zipfile\n",
    "import glob"
   ],
   "metadata": {
    "collapsed": false,
    "ExecuteTime": {
     "end_time": "2023-07-16T16:25:45.054198100Z",
     "start_time": "2023-07-16T16:25:45.044654100Z"
    }
   }
  },
  {
   "cell_type": "code",
   "execution_count": 2,
   "outputs": [],
   "source": [
    "from tinkoff.invest import Client, CandleInterval, InstrumentIdType\n",
    "from pprint import pprint\n",
    "from tinkoff.invest.utils import quotation_to_decimal, decimal_to_quotation, now\n",
    "from datetime import datetime\n",
    "from dateutil.relativedelta import relativedelta"
   ],
   "metadata": {
    "collapsed": false,
    "ExecuteTime": {
     "end_time": "2023-07-16T16:25:45.231171400Z",
     "start_time": "2023-07-16T16:25:45.058642Z"
    }
   }
  },
  {
   "cell_type": "code",
   "outputs": [],
   "source": [
    "import numpy as np\n",
    "import torch"
   ],
   "metadata": {
    "collapsed": false
   },
   "execution_count": 3
  },
  {
   "cell_type": "code",
   "execution_count": 9,
   "outputs": [],
   "source": [
    "TOKEN = ''"
   ],
   "metadata": {
    "collapsed": false,
    "ExecuteTime": {
     "end_time": "2023-07-16T16:25:48.781633400Z",
     "start_time": "2023-07-16T16:25:48.774630Z"
    }
   }
  },
  {
   "cell_type": "code",
   "execution_count": 10,
   "outputs": [],
   "source": [
    "with Client(TOKEN) as client:\n",
    "    rsp = client.instruments.get_favorites()\n",
    "    favorites = rsp.favorite_instruments\n",
    "    favorites = [favorite for favorite in favorites if favorite.instrument_type == 'share']\n",
    "    favorites = [favorite for favorite in favorites if favorite.ticker == 'ROSN']"
   ],
   "metadata": {
    "collapsed": false,
    "ExecuteTime": {
     "end_time": "2023-07-16T16:25:49.141210600Z",
     "start_time": "2023-07-16T16:25:48.780633100Z"
    }
   }
  },
  {
   "cell_type": "code",
   "execution_count": 11,
   "outputs": [],
   "source": [
    "figis = []\n",
    "for favorite in favorites:\n",
    "    figis.append(favorite.figi)"
   ],
   "metadata": {
    "collapsed": false,
    "ExecuteTime": {
     "end_time": "2023-07-16T16:25:49.145307700Z",
     "start_time": "2023-07-16T16:25:49.142209Z"
    }
   }
  },
  {
   "cell_type": "code",
   "execution_count": 12,
   "outputs": [],
   "source": [
    "f = open(\"data/figi.txt\", \"w\")\n",
    "\n",
    "for favorite in favorites:\n",
    "    f.write(favorite.figi + \"\\n\")\n",
    "\n",
    "f.close()"
   ],
   "metadata": {
    "collapsed": false,
    "ExecuteTime": {
     "end_time": "2023-07-16T16:25:49.157567300Z",
     "start_time": "2023-07-16T16:25:49.145307700Z"
    }
   }
  },
  {
   "cell_type": "code",
   "execution_count": 13,
   "outputs": [
    {
     "name": "stdout",
     "output_type": "stream",
     "text": [
      "downloading BBG004731354 for year 2023\n",
      "downloading BBG004731354 for year 2022\n",
      "downloading BBG004731354 for year 2021\n",
      "downloading BBG004731354 for year 2020\n",
      "downloading BBG004731354 for year 2019\n",
      "downloading BBG004731354 for year 2018\n",
      "downloading BBG004731354 for year 2017\n",
      "data not found for figi=BBG004731354, year=2017, removing empty file\n"
     ]
    }
   ],
   "source": [
    "%%bash\n",
    "SCRIPT_DIR=$( cd -- \"$( dirname -- \"${BASH_SOURCE[0]}\" )\" &> /dev/null && pwd )\n",
    "cd data\n",
    "$SCRIPT_DIR/sh/download_md.sh"
   ],
   "metadata": {
    "collapsed": false,
    "ExecuteTime": {
     "end_time": "2023-07-16T16:26:01.219453600Z",
     "start_time": "2023-07-16T16:25:49.155566500Z"
    }
   }
  },
  {
   "cell_type": "code",
   "execution_count": 14,
   "outputs": [
    {
     "name": "stdout",
     "output_type": "stream",
     "text": [
      "Unzip data/zip/BBG004731354/BBG004731354_2018.zip to data/csv/BBG004731354\n",
      "Unzip data/zip/BBG004731354/BBG004731354_2019.zip to data/csv/BBG004731354\n",
      "Unzip data/zip/BBG004731354/BBG004731354_2020.zip to data/csv/BBG004731354\n",
      "Unzip data/zip/BBG004731354/BBG004731354_2021.zip to data/csv/BBG004731354\n",
      "Unzip data/zip/BBG004731354/BBG004731354_2022.zip to data/csv/BBG004731354\n",
      "Unzip data/zip/BBG004731354/BBG004731354_2023.zip to data/csv/BBG004731354\n"
     ]
    }
   ],
   "source": [
    "\n",
    "extract_from_dir = 'data/zip/'\n",
    "extract_to_dir = 'data/csv/'\n",
    "\n",
    "for subdir, dirs, files in os.walk(extract_from_dir):\n",
    "    for file in files:\n",
    "        figi = subdir.split(\"/\")[-1]\n",
    "        if figi in figis:\n",
    "            extract_to = extract_to_dir + figi\n",
    "            print(\"Unzip \" + os.path.join(subdir, file) + \" to \" + extract_to)\n",
    "            try:\n",
    "                with zipfile.ZipFile(os.path.join(subdir, file), 'r') as zip_ref:\n",
    "                    zip_ref.extractall(extract_to)\n",
    "            except Exception as e:\n",
    "                print(e)"
   ],
   "metadata": {
    "collapsed": false,
    "ExecuteTime": {
     "end_time": "2023-07-16T16:26:06.431957Z",
     "start_time": "2023-07-16T16:26:01.219453600Z"
    }
   }
  },
  {
   "cell_type": "code",
   "execution_count": 145,
   "outputs": [
    {
     "name": "stdout",
     "output_type": "stream",
     "text": [
      "                     Datetime    Open   Close     Max     Min  Volume\n",
      "0   2018-03-07 18:33:00+00:00  315.70  315.70  315.70  315.70       3\n",
      "1   2018-03-07 18:34:00+00:00  315.75  315.75  315.75  315.75       6\n",
      "2   2018-03-07 18:36:00+00:00  315.60  315.75  315.75  315.60     259\n",
      "3   2018-03-07 18:37:00+00:00  315.55  315.50  315.55  315.45      71\n",
      "4   2018-03-07 18:38:00+00:00  315.45  315.45  315.45  315.20    1365\n",
      "..                        ...     ...     ...     ...     ...     ...\n",
      "595 2018-03-09 23:55:00+00:00  312.75  312.70  312.75  312.70      69\n",
      "596 2018-03-09 23:56:00+00:00  312.70  312.70  312.75  312.70      80\n",
      "597 2018-03-09 23:57:00+00:00  312.70  312.55  312.70  312.55      79\n",
      "598 2018-03-09 23:58:00+00:00  312.65  312.90  312.90  312.55    1753\n",
      "599 2018-03-09 23:59:00+00:00  312.60  312.65  312.70  312.60      98\n",
      "\n",
      "[915 rows x 6 columns]\n"
     ]
    }
   ],
   "source": [
    "for figi in figis:\n",
    "    li = []\n",
    "\n",
    "    # list all csv files only\n",
    "    csv_files = glob.glob(\"data/csv/{}/*.csv\".format(figi))\n",
    "\n",
    "    i = 0\n",
    "    # append the CSV files\n",
    "    for file in csv_files:\n",
    "        df_tmp = pd.read_csv(file, index_col=False, sep=\";\", names=['ID', \"Datetime\", \"Open\", \"Close\", \"Max\", \"Min\", \"Volume\"], parse_dates=[\"Datetime\"])\n",
    "        li.append(df_tmp)\n",
    "        if i > 1:\n",
    "            break\n",
    "        else:\n",
    "            i = i + 1\n",
    "\n",
    "    df  = pd.concat(li, axis=0)\n",
    "    df.drop(columns=df.columns[0], axis=1, inplace=True)\n",
    "    print(df)"
   ],
   "metadata": {
    "collapsed": false,
    "ExecuteTime": {
     "end_time": "2023-07-16T17:54:40.157344300Z",
     "start_time": "2023-07-16T17:54:40.042925900Z"
    }
   }
  },
  {
   "cell_type": "code",
   "execution_count": 146,
   "outputs": [
    {
     "data": {
      "text/plain": "array([[315.7 ],\n       [315.75],\n       [315.75],\n       [315.5 ],\n       [315.45],\n       [315.25],\n       [315.75],\n       [315.7 ],\n       [315.6 ],\n       [315.6 ],\n       [315.7 ],\n       [315.55],\n       [315.65],\n       [315.7 ],\n       [315.7 ],\n       [315.65],\n       [315.55],\n       [315.6 ],\n       [315.6 ],\n       [315.6 ],\n       [315.85],\n       [315.6 ],\n       [315.85],\n       [315.6 ],\n       [315.75],\n       [315.6 ],\n       [315.7 ],\n       [315.7 ],\n       [315.85],\n       [315.85],\n       [315.9 ],\n       [315.9 ],\n       [315.9 ],\n       [315.7 ],\n       [315.55],\n       [315.75],\n       [315.85],\n       [315.3 ],\n       [315.4 ],\n       [315.3 ],\n       [315.35],\n       [315.3 ],\n       [315.25],\n       [315.4 ],\n       [315.2 ],\n       [315.4 ],\n       [315.2 ],\n       [315.05],\n       [315.05],\n       [315.2 ],\n       [315.15],\n       [315.05],\n       [315.05],\n       [315.1 ],\n       [315.2 ],\n       [315.35],\n       [315.2 ],\n       [315.1 ],\n       [315.05],\n       [315.05],\n       [315.15],\n       [315.1 ],\n       [315.05],\n       [315.05],\n       [315.05],\n       [314.85],\n       [314.95],\n       [315.05],\n       [314.95],\n       [315.15],\n       [314.9 ],\n       [315.2 ],\n       [315.15],\n       [315.25],\n       [315.15],\n       [315.25],\n       [315.45],\n       [315.35],\n       [315.4 ],\n       [315.55],\n       [315.55],\n       [315.35],\n       [315.25],\n       [315.4 ],\n       [315.4 ],\n       [315.4 ],\n       [315.4 ],\n       [315.45],\n       [315.3 ],\n       [315.5 ],\n       [315.5 ],\n       [315.55],\n       [315.6 ],\n       [315.6 ],\n       [315.65],\n       [315.8 ],\n       [315.85],\n       [316.15],\n       [316.1 ],\n       [316.1 ],\n       [315.9 ],\n       [316.1 ],\n       [316.1 ],\n       [316.1 ],\n       [316.3 ],\n       [316.15],\n       [316.2 ],\n       [316.2 ],\n       [316.2 ],\n       [316.15],\n       [316.15],\n       [316.3 ],\n       [316.15],\n       [316.35],\n       [316.15],\n       [316.15],\n       [316.1 ],\n       [316.1 ],\n       [316.05],\n       [316.05],\n       [316.  ],\n       [316.  ],\n       [316.  ],\n       [316.25],\n       [316.1 ],\n       [316.2 ],\n       [316.25],\n       [316.2 ],\n       [316.4 ],\n       [316.1 ],\n       [316.15],\n       [316.35],\n       [316.15],\n       [316.15],\n       [316.15],\n       [316.05],\n       [316.  ],\n       [316.  ],\n       [316.  ],\n       [316.  ],\n       [315.95],\n       [316.  ],\n       [316.  ],\n       [316.  ],\n       [315.9 ],\n       [315.75],\n       [315.8 ],\n       [315.85],\n       [315.65],\n       [315.65],\n       [315.6 ],\n       [315.85],\n       [315.7 ],\n       [315.65],\n       [315.6 ],\n       [315.6 ],\n       [315.65],\n       [315.75],\n       [315.6 ],\n       [315.6 ],\n       [315.55],\n       [315.55],\n       [315.55],\n       [315.85],\n       [315.55],\n       [315.6 ],\n       [315.8 ],\n       [315.7 ],\n       [315.6 ],\n       [315.6 ],\n       [315.6 ],\n       [315.65],\n       [315.75],\n       [315.65],\n       [315.75],\n       [315.6 ],\n       [315.6 ],\n       [315.6 ],\n       [315.7 ],\n       [315.7 ],\n       [315.75],\n       [315.75],\n       [315.8 ],\n       [315.95],\n       [315.75],\n       [315.65],\n       [315.6 ],\n       [315.7 ],\n       [315.35],\n       [315.3 ],\n       [315.25],\n       [315.1 ],\n       [315.15],\n       [315.1 ],\n       [315.1 ],\n       [315.15],\n       [315.15],\n       [315.15],\n       [315.15],\n       [315.1 ],\n       [314.85],\n       [314.75],\n       [314.5 ],\n       [314.45],\n       [314.3 ],\n       [314.25],\n       [314.2 ],\n       [314.15],\n       [314.15],\n       [314.05],\n       [314.  ],\n       [314.1 ],\n       [313.7 ],\n       [313.35],\n       [313.35],\n       [313.05],\n       [313.35],\n       [313.55],\n       [313.6 ],\n       [313.6 ],\n       [313.05],\n       [313.2 ],\n       [313.05],\n       [313.05],\n       [313.2 ],\n       [313.05],\n       [313.  ],\n       [313.05],\n       [313.05],\n       [313.1 ],\n       [313.2 ],\n       [313.5 ],\n       [313.45],\n       [313.25],\n       [313.45],\n       [313.2 ],\n       [313.25],\n       [313.35],\n       [313.25],\n       [313.2 ],\n       [313.2 ],\n       [313.35],\n       [313.35],\n       [313.4 ],\n       [313.35],\n       [313.15],\n       [313.15],\n       [313.05],\n       [313.3 ],\n       [313.3 ],\n       [313.1 ],\n       [313.3 ],\n       [313.45],\n       [313.5 ],\n       [313.85],\n       [313.7 ],\n       [313.65],\n       [313.5 ],\n       [313.6 ],\n       [313.05],\n       [313.3 ],\n       [313.15],\n       [313.25],\n       [313.3 ],\n       [313.3 ],\n       [313.3 ],\n       [313.2 ],\n       [313.3 ],\n       [313.3 ],\n       [313.35],\n       [313.4 ],\n       [313.4 ],\n       [313.3 ],\n       [313.15],\n       [313.3 ],\n       [313.3 ],\n       [313.4 ],\n       [313.4 ],\n       [313.35],\n       [313.35],\n       [313.35],\n       [313.25],\n       [313.4 ],\n       [313.4 ],\n       [313.4 ],\n       [313.4 ],\n       [313.3 ],\n       [315.3 ],\n       [315.15],\n       [315.3 ],\n       [315.1 ],\n       [315.  ],\n       [314.9 ],\n       [314.65],\n       [314.65],\n       [314.65],\n       [314.85],\n       [314.95],\n       [314.95],\n       [314.85],\n       [314.9 ],\n       [314.95],\n       [314.7 ],\n       [314.9 ],\n       [315.  ],\n       [314.8 ],\n       [315.  ],\n       [315.  ],\n       [315.  ],\n       [315.  ],\n       [315.  ],\n       [315.  ],\n       [315.  ],\n       [315.  ],\n       [315.  ],\n       [314.95],\n       [314.  ],\n       [313.8 ],\n       [313.55],\n       [313.3 ],\n       [313.25],\n       [313.45],\n       [313.6 ],\n       [313.65],\n       [313.6 ],\n       [314.  ],\n       [314.2 ],\n       [314.  ],\n       [314.1 ],\n       [314.2 ],\n       [314.3 ],\n       [314.35],\n       [314.3 ],\n       [314.35],\n       [314.3 ],\n       [314.3 ],\n       [314.3 ],\n       [314.3 ],\n       [314.1 ],\n       [313.9 ],\n       [313.75],\n       [313.75],\n       [313.8 ],\n       [313.85],\n       [313.95],\n       [314.  ],\n       [314.  ],\n       [313.9 ],\n       [313.9 ],\n       [313.95],\n       [314.05],\n       [314.1 ],\n       [314.1 ],\n       [314.3 ],\n       [314.25],\n       [314.35],\n       [314.4 ],\n       [314.65],\n       [314.6 ],\n       [314.45],\n       [314.45],\n       [314.25],\n       [314.3 ],\n       [314.3 ],\n       [314.3 ],\n       [314.25],\n       [314.15],\n       [313.95],\n       [313.95],\n       [314.  ],\n       [314.  ],\n       [314.1 ],\n       [314.05],\n       [313.95],\n       [313.8 ],\n       [313.95],\n       [314.  ],\n       [313.95],\n       [313.85],\n       [314.  ],\n       [313.85],\n       [314.  ],\n       [314.1 ],\n       [314.1 ],\n       [314.15],\n       [313.9 ],\n       [313.85],\n       [313.95],\n       [314.05],\n       [314.2 ],\n       [314.15],\n       [314.1 ],\n       [314.15],\n       [313.9 ],\n       [313.9 ],\n       [313.85],\n       [313.9 ],\n       [313.85],\n       [313.7 ],\n       [313.85],\n       [313.95],\n       [313.85],\n       [313.75],\n       [313.7 ],\n       [313.6 ],\n       [313.2 ],\n       [313.5 ],\n       [313.55],\n       [313.55],\n       [313.5 ],\n       [313.45],\n       [313.4 ],\n       [313.35],\n       [313.4 ],\n       [313.4 ],\n       [313.4 ],\n       [313.4 ],\n       [313.55],\n       [313.4 ],\n       [313.25],\n       [313.35],\n       [313.4 ],\n       [313.4 ],\n       [313.45],\n       [313.5 ],\n       [313.5 ],\n       [313.45],\n       [313.55],\n       [313.7 ],\n       [313.65],\n       [313.9 ],\n       [314.  ],\n       [313.9 ],\n       [313.9 ],\n       [313.9 ],\n       [313.9 ],\n       [313.9 ],\n       [314.  ],\n       [314.  ],\n       [313.85],\n       [313.8 ],\n       [315.6 ],\n       [315.8 ],\n       [316.05],\n       [315.85],\n       [315.45],\n       [315.55],\n       [315.55],\n       [315.6 ],\n       [315.6 ],\n       [315.4 ],\n       [315.4 ],\n       [315.15],\n       [315.15],\n       [314.9 ],\n       [314.45],\n       [314.6 ],\n       [314.55],\n       [314.6 ],\n       [314.65],\n       [314.45],\n       [314.2 ],\n       [314.2 ],\n       [314.1 ],\n       [314.15],\n       [314.2 ],\n       [314.1 ],\n       [314.1 ],\n       [314.  ],\n       [314.05],\n       [313.95],\n       [314.  ],\n       [314.1 ],\n       [314.  ],\n       [314.  ],\n       [313.7 ],\n       [313.95],\n       [313.9 ],\n       [313.8 ],\n       [313.7 ],\n       [313.7 ],\n       [313.75],\n       [313.75],\n       [313.8 ],\n       [313.7 ],\n       [313.75],\n       [313.55],\n       [313.75],\n       [313.7 ],\n       [313.75],\n       [313.75],\n       [313.25],\n       [313.45],\n       [313.45],\n       [313.55],\n       [313.65],\n       [313.7 ],\n       [313.65],\n       [313.65],\n       [313.5 ],\n       [313.5 ],\n       [313.65],\n       [313.7 ],\n       [313.75],\n       [313.75],\n       [313.8 ],\n       [313.9 ],\n       [313.9 ],\n       [313.9 ],\n       [313.9 ],\n       [313.9 ],\n       [313.9 ],\n       [313.95],\n       [314.05],\n       [314.  ],\n       [314.2 ],\n       [314.15],\n       [314.25],\n       [314.2 ],\n       [314.05],\n       [314.05],\n       [314.15],\n       [314.2 ],\n       [314.2 ],\n       [314.2 ],\n       [314.35],\n       [314.3 ],\n       [314.35],\n       [314.35],\n       [314.4 ],\n       [314.4 ],\n       [314.4 ],\n       [314.6 ],\n       [314.5 ],\n       [314.55],\n       [314.45],\n       [314.55],\n       [314.6 ],\n       [314.3 ],\n       [314.3 ],\n       [314.15],\n       [314.2 ],\n       [314.15],\n       [314.15],\n       [314.15],\n       [314.15],\n       [314.05],\n       [314.  ],\n       [314.05],\n       [314.05],\n       [314.05],\n       [314.15],\n       [314.25],\n       [314.25],\n       [314.35],\n       [314.4 ],\n       [314.4 ],\n       [314.4 ],\n       [314.4 ],\n       [314.15],\n       [313.8 ],\n       [313.65],\n       [313.65],\n       [313.7 ],\n       [313.7 ],\n       [313.9 ],\n       [313.75],\n       [313.65],\n       [313.65],\n       [313.65],\n       [313.65],\n       [313.6 ],\n       [313.65],\n       [313.7 ],\n       [313.7 ],\n       [313.6 ],\n       [313.65],\n       [313.65],\n       [313.7 ],\n       [313.75],\n       [313.75],\n       [313.8 ],\n       [313.9 ],\n       [313.75],\n       [313.7 ],\n       [313.75],\n       [313.8 ],\n       [313.85],\n       [313.8 ],\n       [313.8 ],\n       [313.75],\n       [313.75],\n       [313.8 ],\n       [313.85],\n       [313.7 ],\n       [313.7 ],\n       [313.7 ],\n       [313.65],\n       [313.85],\n       [313.65],\n       [313.8 ],\n       [313.8 ],\n       [313.8 ],\n       [313.65],\n       [313.8 ],\n       [313.7 ],\n       [313.7 ],\n       [313.8 ],\n       [313.85],\n       [313.85],\n       [313.85],\n       [313.8 ],\n       [313.8 ],\n       [313.8 ],\n       [313.85],\n       [313.85],\n       [313.85],\n       [313.9 ],\n       [313.9 ],\n       [313.85],\n       [313.9 ],\n       [313.9 ],\n       [313.95],\n       [313.9 ],\n       [313.95],\n       [313.9 ],\n       [313.85],\n       [313.85],\n       [313.8 ],\n       [313.8 ],\n       [313.9 ],\n       [313.7 ],\n       [313.75],\n       [313.65],\n       [313.65],\n       [313.55],\n       [313.55],\n       [313.55],\n       [313.5 ],\n       [313.5 ],\n       [313.4 ],\n       [313.45],\n       [313.5 ],\n       [313.45],\n       [313.4 ],\n       [313.4 ],\n       [313.45],\n       [313.4 ],\n       [313.4 ],\n       [313.45],\n       [313.45],\n       [313.4 ],\n       [313.25],\n       [313.25],\n       [313.25],\n       [313.25],\n       [313.05],\n       [313.1 ],\n       [313.2 ],\n       [313.2 ],\n       [313.25],\n       [313.25],\n       [313.25],\n       [313.25],\n       [313.2 ],\n       [313.2 ],\n       [313.35],\n       [313.2 ],\n       [313.3 ],\n       [313.3 ],\n       [313.25],\n       [313.3 ],\n       [313.25],\n       [313.25],\n       [313.1 ],\n       [313.3 ],\n       [313.5 ],\n       [313.4 ],\n       [313.45],\n       [313.4 ],\n       [313.4 ],\n       [313.35],\n       [313.45],\n       [313.5 ],\n       [313.3 ],\n       [313.35],\n       [313.35],\n       [313.4 ],\n       [313.35],\n       [313.3 ],\n       [313.3 ],\n       [313.3 ],\n       [313.25],\n       [313.25],\n       [313.25],\n       [313.3 ],\n       [313.25],\n       [313.25],\n       [313.35],\n       [313.45],\n       [313.4 ],\n       [313.4 ],\n       [313.35],\n       [313.5 ],\n       [313.5 ],\n       [313.5 ],\n       [313.55],\n       [313.45],\n       [313.45],\n       [313.5 ],\n       [313.45],\n       [313.55],\n       [313.6 ],\n       [313.55],\n       [313.7 ],\n       [313.55],\n       [313.75],\n       [313.75],\n       [313.55],\n       [313.55],\n       [313.55],\n       [313.55],\n       [313.55],\n       [313.55],\n       [313.7 ],\n       [313.35],\n       [313.35],\n       [313.45],\n       [313.45],\n       [313.45],\n       [313.45],\n       [313.35],\n       [313.4 ],\n       [313.  ],\n       [313.  ],\n       [313.  ],\n       [312.85],\n       [312.9 ],\n       [312.85],\n       [313.  ],\n       [313.  ],\n       [313.  ],\n       [313.  ],\n       [313.  ],\n       [313.1 ],\n       [313.1 ],\n       [313.1 ],\n       [313.1 ],\n       [313.  ],\n       [312.95],\n       [313.  ],\n       [313.2 ],\n       [313.2 ],\n       [313.2 ],\n       [313.2 ],\n       [313.2 ],\n       [313.3 ],\n       [313.25],\n       [313.25],\n       [313.25],\n       [313.2 ],\n       [313.25],\n       [313.25],\n       [313.2 ],\n       [313.2 ],\n       [313.35],\n       [313.45],\n       [313.65],\n       [313.6 ],\n       [313.7 ],\n       [313.6 ],\n       [313.65],\n       [313.7 ],\n       [313.7 ],\n       [313.5 ],\n       [313.4 ],\n       [313.35],\n       [313.55],\n       [313.5 ],\n       [313.65],\n       [313.65],\n       [313.65],\n       [313.6 ],\n       [313.15],\n       [313.5 ],\n       [313.4 ],\n       [313.35],\n       [313.4 ],\n       [313.35],\n       [313.35],\n       [313.35],\n       [313.5 ],\n       [313.5 ],\n       [313.6 ],\n       [313.65],\n       [313.65],\n       [313.55],\n       [313.45],\n       [313.45],\n       [313.45],\n       [313.45],\n       [313.45],\n       [313.45],\n       [313.35],\n       [313.5 ],\n       [313.35],\n       [313.3 ],\n       [313.3 ],\n       [313.35],\n       [313.35],\n       [313.3 ],\n       [313.35],\n       [313.4 ],\n       [313.35],\n       [313.4 ],\n       [313.4 ],\n       [313.35],\n       [313.4 ],\n       [313.5 ],\n       [313.35],\n       [313.35],\n       [313.35],\n       [313.4 ],\n       [313.55],\n       [313.55],\n       [313.55],\n       [313.55],\n       [313.45],\n       [313.4 ],\n       [313.4 ],\n       [313.4 ],\n       [313.35],\n       [313.3 ],\n       [313.4 ],\n       [313.45],\n       [313.45],\n       [313.45],\n       [313.35],\n       [313.35],\n       [313.45],\n       [313.35],\n       [313.35],\n       [313.35],\n       [313.45],\n       [313.4 ],\n       [313.35],\n       [313.4 ],\n       [313.35],\n       [313.35],\n       [313.35],\n       [313.35],\n       [313.35],\n       [313.3 ],\n       [313.1 ],\n       [313.2 ],\n       [313.2 ],\n       [313.15],\n       [313.2 ],\n       [313.2 ],\n       [313.15],\n       [313.2 ],\n       [313.2 ],\n       [313.2 ],\n       [313.45],\n       [313.45],\n       [313.3 ],\n       [313.3 ],\n       [313.3 ],\n       [313.3 ],\n       [313.25],\n       [313.25],\n       [313.25],\n       [313.25],\n       [313.3 ],\n       [313.3 ],\n       [313.3 ],\n       [313.3 ],\n       [313.3 ],\n       [313.4 ],\n       [313.35],\n       [313.3 ],\n       [313.25],\n       [313.25],\n       [313.25],\n       [313.2 ],\n       [313.25],\n       [313.3 ],\n       [313.3 ],\n       [313.3 ],\n       [313.3 ],\n       [313.25],\n       [313.15],\n       [313.15],\n       [313.2 ],\n       [313.15],\n       [313.2 ],\n       [313.2 ],\n       [313.2 ],\n       [313.05],\n       [313.05],\n       [313.05],\n       [312.8 ],\n       [312.65],\n       [312.7 ],\n       [312.65],\n       [312.6 ],\n       [312.6 ],\n       [312.75],\n       [312.7 ],\n       [312.7 ],\n       [312.7 ],\n       [312.7 ],\n       [312.55],\n       [312.9 ],\n       [312.65]], dtype=float32)"
     },
     "execution_count": 146,
     "metadata": {},
     "output_type": "execute_result"
    }
   ],
   "source": [
    "df[[\"Close\"]].values.astype('float32')"
   ],
   "metadata": {
    "collapsed": false,
    "ExecuteTime": {
     "end_time": "2023-07-16T17:54:42.291942100Z",
     "start_time": "2023-07-16T17:54:42.245756900Z"
    }
   }
  },
  {
   "cell_type": "code",
   "execution_count": 147,
   "outputs": [
    {
     "data": {
      "text/plain": "                     Datetime   Close\n0   2018-03-07 18:33:00+00:00  315.70\n1   2018-03-07 18:34:00+00:00  315.75\n2   2018-03-07 18:36:00+00:00  315.75\n3   2018-03-07 18:37:00+00:00  315.50\n4   2018-03-07 18:38:00+00:00  315.45\n..                        ...     ...\n595 2018-03-09 23:55:00+00:00  312.70\n596 2018-03-09 23:56:00+00:00  312.70\n597 2018-03-09 23:57:00+00:00  312.55\n598 2018-03-09 23:58:00+00:00  312.90\n599 2018-03-09 23:59:00+00:00  312.65\n\n[915 rows x 2 columns]",
      "text/html": "<div>\n<style scoped>\n    .dataframe tbody tr th:only-of-type {\n        vertical-align: middle;\n    }\n\n    .dataframe tbody tr th {\n        vertical-align: top;\n    }\n\n    .dataframe thead th {\n        text-align: right;\n    }\n</style>\n<table border=\"1\" class=\"dataframe\">\n  <thead>\n    <tr style=\"text-align: right;\">\n      <th></th>\n      <th>Datetime</th>\n      <th>Close</th>\n    </tr>\n  </thead>\n  <tbody>\n    <tr>\n      <th>0</th>\n      <td>2018-03-07 18:33:00+00:00</td>\n      <td>315.70</td>\n    </tr>\n    <tr>\n      <th>1</th>\n      <td>2018-03-07 18:34:00+00:00</td>\n      <td>315.75</td>\n    </tr>\n    <tr>\n      <th>2</th>\n      <td>2018-03-07 18:36:00+00:00</td>\n      <td>315.75</td>\n    </tr>\n    <tr>\n      <th>3</th>\n      <td>2018-03-07 18:37:00+00:00</td>\n      <td>315.50</td>\n    </tr>\n    <tr>\n      <th>4</th>\n      <td>2018-03-07 18:38:00+00:00</td>\n      <td>315.45</td>\n    </tr>\n    <tr>\n      <th>...</th>\n      <td>...</td>\n      <td>...</td>\n    </tr>\n    <tr>\n      <th>595</th>\n      <td>2018-03-09 23:55:00+00:00</td>\n      <td>312.70</td>\n    </tr>\n    <tr>\n      <th>596</th>\n      <td>2018-03-09 23:56:00+00:00</td>\n      <td>312.70</td>\n    </tr>\n    <tr>\n      <th>597</th>\n      <td>2018-03-09 23:57:00+00:00</td>\n      <td>312.55</td>\n    </tr>\n    <tr>\n      <th>598</th>\n      <td>2018-03-09 23:58:00+00:00</td>\n      <td>312.90</td>\n    </tr>\n    <tr>\n      <th>599</th>\n      <td>2018-03-09 23:59:00+00:00</td>\n      <td>312.65</td>\n    </tr>\n  </tbody>\n</table>\n<p>915 rows × 2 columns</p>\n</div>"
     },
     "execution_count": 147,
     "metadata": {},
     "output_type": "execute_result"
    }
   ],
   "source": [
    "df[[\"Datetime\", \"Close\"]]"
   ],
   "metadata": {
    "collapsed": false,
    "ExecuteTime": {
     "end_time": "2023-07-16T17:54:44.626995200Z",
     "start_time": "2023-07-16T17:54:44.598400500Z"
    }
   }
  },
  {
   "cell_type": "code",
   "execution_count": 165,
   "outputs": [],
   "source": [
    "timeseries = df[[\"Close\"]].values.astype('float32')\n",
    "\n",
    "# train-test split for time series\n",
    "train_size = int(len(timeseries) * 0.67)\n",
    "test_size = len(timeseries) - train_size\n",
    "train, test = timeseries[:train_size], timeseries[train_size:]"
   ],
   "metadata": {
    "collapsed": false,
    "ExecuteTime": {
     "end_time": "2023-07-16T18:00:18.828132400Z",
     "start_time": "2023-07-16T18:00:18.812846100Z"
    }
   }
  },
  {
   "cell_type": "code",
   "execution_count": 132,
   "outputs": [
    {
     "data": {
      "text/plain": "numpy.ndarray"
     },
     "execution_count": 132,
     "metadata": {},
     "output_type": "execute_result"
    }
   ],
   "source": [
    "type(train)"
   ],
   "metadata": {
    "collapsed": false,
    "ExecuteTime": {
     "end_time": "2023-07-16T17:40:41.002413700Z",
     "start_time": "2023-07-16T17:40:40.934665300Z"
    }
   }
  },
  {
   "cell_type": "code",
   "execution_count": 100,
   "outputs": [
    {
     "ename": "TypeError",
     "evalue": "float() argument must be a string or a real number, not 'Timestamp'",
     "output_type": "error",
     "traceback": [
      "\u001B[0;31m---------------------------------------------------------------------------\u001B[0m",
      "\u001B[0;31mTypeError\u001B[0m                                 Traceback (most recent call last)",
      "\u001B[0;32m/tmp/ipykernel_2506/994042412.py\u001B[0m in \u001B[0;36m?\u001B[0;34m()\u001B[0m\n\u001B[0;32m----> 1\u001B[0;31m \u001B[0mdecompose_data\u001B[0m \u001B[0;34m=\u001B[0m \u001B[0mseasonal_decompose\u001B[0m\u001B[0;34m(\u001B[0m\u001B[0mdf\u001B[0m\u001B[0;34m[\u001B[0m\u001B[0;34m[\u001B[0m\u001B[0;34m\"Datetime\"\u001B[0m\u001B[0;34m,\u001B[0m \u001B[0;34m\"Close\"\u001B[0m\u001B[0;34m]\u001B[0m\u001B[0;34m]\u001B[0m\u001B[0;34m,\u001B[0m \u001B[0mmodel\u001B[0m\u001B[0;34m=\u001B[0m\u001B[0;34m\"additive\"\u001B[0m\u001B[0;34m)\u001B[0m\u001B[0;34m\u001B[0m\u001B[0;34m\u001B[0m\u001B[0m\n\u001B[0m\u001B[1;32m      2\u001B[0m \u001B[0mdecompose_data\u001B[0m\u001B[0;34m.\u001B[0m\u001B[0mplot\u001B[0m\u001B[0;34m(\u001B[0m\u001B[0;34m)\u001B[0m\u001B[0;34m;\u001B[0m\u001B[0;34m\u001B[0m\u001B[0;34m\u001B[0m\u001B[0m\n",
      "\u001B[0;32m~/.virtualenvs/invest-bot/venv/lib/python3.10/site-packages/statsmodels/tsa/seasonal.py\u001B[0m in \u001B[0;36m?\u001B[0;34m(x, model, filt, period, two_sided, extrapolate_trend)\u001B[0m\n\u001B[1;32m    145\u001B[0m     \u001B[0mpw\u001B[0m \u001B[0;34m=\u001B[0m \u001B[0mPandasWrapper\u001B[0m\u001B[0;34m(\u001B[0m\u001B[0mx\u001B[0m\u001B[0;34m)\u001B[0m\u001B[0;34m\u001B[0m\u001B[0;34m\u001B[0m\u001B[0m\n\u001B[1;32m    146\u001B[0m     \u001B[0;32mif\u001B[0m \u001B[0mperiod\u001B[0m \u001B[0;32mis\u001B[0m \u001B[0;32mNone\u001B[0m\u001B[0;34m:\u001B[0m\u001B[0;34m\u001B[0m\u001B[0;34m\u001B[0m\u001B[0m\n\u001B[1;32m    147\u001B[0m         \u001B[0mpfreq\u001B[0m \u001B[0;34m=\u001B[0m \u001B[0mgetattr\u001B[0m\u001B[0;34m(\u001B[0m\u001B[0mgetattr\u001B[0m\u001B[0;34m(\u001B[0m\u001B[0mx\u001B[0m\u001B[0;34m,\u001B[0m \u001B[0;34m\"index\"\u001B[0m\u001B[0;34m,\u001B[0m \u001B[0;32mNone\u001B[0m\u001B[0;34m)\u001B[0m\u001B[0;34m,\u001B[0m \u001B[0;34m\"inferred_freq\"\u001B[0m\u001B[0;34m,\u001B[0m \u001B[0;32mNone\u001B[0m\u001B[0;34m)\u001B[0m\u001B[0;34m\u001B[0m\u001B[0;34m\u001B[0m\u001B[0m\n\u001B[1;32m    148\u001B[0m \u001B[0;34m\u001B[0m\u001B[0m\n\u001B[0;32m--> 149\u001B[0;31m     \u001B[0mx\u001B[0m \u001B[0;34m=\u001B[0m \u001B[0marray_like\u001B[0m\u001B[0;34m(\u001B[0m\u001B[0mx\u001B[0m\u001B[0;34m,\u001B[0m \u001B[0;34m\"x\"\u001B[0m\u001B[0;34m,\u001B[0m \u001B[0mmaxdim\u001B[0m\u001B[0;34m=\u001B[0m\u001B[0;36m2\u001B[0m\u001B[0;34m)\u001B[0m\u001B[0;34m\u001B[0m\u001B[0;34m\u001B[0m\u001B[0m\n\u001B[0m\u001B[1;32m    150\u001B[0m     \u001B[0mnobs\u001B[0m \u001B[0;34m=\u001B[0m \u001B[0mlen\u001B[0m\u001B[0;34m(\u001B[0m\u001B[0mx\u001B[0m\u001B[0;34m)\u001B[0m\u001B[0;34m\u001B[0m\u001B[0;34m\u001B[0m\u001B[0m\n\u001B[1;32m    151\u001B[0m \u001B[0;34m\u001B[0m\u001B[0m\n\u001B[1;32m    152\u001B[0m     \u001B[0;32mif\u001B[0m \u001B[0;32mnot\u001B[0m \u001B[0mnp\u001B[0m\u001B[0;34m.\u001B[0m\u001B[0mall\u001B[0m\u001B[0;34m(\u001B[0m\u001B[0mnp\u001B[0m\u001B[0;34m.\u001B[0m\u001B[0misfinite\u001B[0m\u001B[0;34m(\u001B[0m\u001B[0mx\u001B[0m\u001B[0;34m)\u001B[0m\u001B[0;34m)\u001B[0m\u001B[0;34m:\u001B[0m\u001B[0;34m\u001B[0m\u001B[0;34m\u001B[0m\u001B[0m\n",
      "\u001B[0;32m~/.virtualenvs/invest-bot/venv/lib/python3.10/site-packages/statsmodels/tools/validation/validation.py\u001B[0m in \u001B[0;36m?\u001B[0;34m(obj, name, dtype, ndim, maxdim, shape, order, contiguous, optional, writeable)\u001B[0m\n\u001B[1;32m    139\u001B[0m     \u001B[0;32mif\u001B[0m \u001B[0morder\u001B[0m \u001B[0;34m==\u001B[0m \u001B[0;34m\"C\"\u001B[0m \u001B[0;32mor\u001B[0m \u001B[0mcontiguous\u001B[0m\u001B[0;34m:\u001B[0m\u001B[0;34m\u001B[0m\u001B[0;34m\u001B[0m\u001B[0m\n\u001B[1;32m    140\u001B[0m         \u001B[0mreqs\u001B[0m \u001B[0;34m+=\u001B[0m \u001B[0;34m[\u001B[0m\u001B[0;34m\"C\"\u001B[0m\u001B[0;34m]\u001B[0m\u001B[0;34m\u001B[0m\u001B[0;34m\u001B[0m\u001B[0m\n\u001B[1;32m    141\u001B[0m     \u001B[0;32melif\u001B[0m \u001B[0morder\u001B[0m \u001B[0;34m==\u001B[0m \u001B[0;34m\"F\"\u001B[0m\u001B[0;34m:\u001B[0m\u001B[0;34m\u001B[0m\u001B[0;34m\u001B[0m\u001B[0m\n\u001B[1;32m    142\u001B[0m         \u001B[0mreqs\u001B[0m \u001B[0;34m+=\u001B[0m \u001B[0;34m[\u001B[0m\u001B[0;34m\"F\"\u001B[0m\u001B[0;34m]\u001B[0m\u001B[0;34m\u001B[0m\u001B[0;34m\u001B[0m\u001B[0m\n\u001B[0;32m--> 143\u001B[0;31m     \u001B[0marr\u001B[0m \u001B[0;34m=\u001B[0m \u001B[0mnp\u001B[0m\u001B[0;34m.\u001B[0m\u001B[0mrequire\u001B[0m\u001B[0;34m(\u001B[0m\u001B[0mobj\u001B[0m\u001B[0;34m,\u001B[0m \u001B[0mdtype\u001B[0m\u001B[0;34m=\u001B[0m\u001B[0mdtype\u001B[0m\u001B[0;34m,\u001B[0m \u001B[0mrequirements\u001B[0m\u001B[0;34m=\u001B[0m\u001B[0mreqs\u001B[0m\u001B[0;34m)\u001B[0m\u001B[0;34m\u001B[0m\u001B[0;34m\u001B[0m\u001B[0m\n\u001B[0m\u001B[1;32m    144\u001B[0m     \u001B[0;32mif\u001B[0m \u001B[0mmaxdim\u001B[0m \u001B[0;32mis\u001B[0m \u001B[0;32mnot\u001B[0m \u001B[0;32mNone\u001B[0m\u001B[0;34m:\u001B[0m\u001B[0;34m\u001B[0m\u001B[0;34m\u001B[0m\u001B[0m\n\u001B[1;32m    145\u001B[0m         \u001B[0;32mif\u001B[0m \u001B[0marr\u001B[0m\u001B[0;34m.\u001B[0m\u001B[0mndim\u001B[0m \u001B[0;34m>\u001B[0m \u001B[0mmaxdim\u001B[0m\u001B[0;34m:\u001B[0m\u001B[0;34m\u001B[0m\u001B[0;34m\u001B[0m\u001B[0m\n\u001B[1;32m    146\u001B[0m             \u001B[0mmsg\u001B[0m \u001B[0;34m=\u001B[0m \u001B[0;34m\"{0} must have ndim <= {1}\"\u001B[0m\u001B[0;34m.\u001B[0m\u001B[0mformat\u001B[0m\u001B[0;34m(\u001B[0m\u001B[0mname\u001B[0m\u001B[0;34m,\u001B[0m \u001B[0mmaxdim\u001B[0m\u001B[0;34m)\u001B[0m\u001B[0;34m\u001B[0m\u001B[0;34m\u001B[0m\u001B[0m\n",
      "\u001B[0;32m~/.virtualenvs/invest-bot/venv/lib/python3.10/site-packages/numpy/core/_asarray.py\u001B[0m in \u001B[0;36m?\u001B[0;34m(a, dtype, requirements, like)\u001B[0m\n\u001B[1;32m    122\u001B[0m     \u001B[0;32melif\u001B[0m \u001B[0;34m'C'\u001B[0m \u001B[0;32min\u001B[0m \u001B[0mrequirements\u001B[0m\u001B[0;34m:\u001B[0m\u001B[0;34m\u001B[0m\u001B[0;34m\u001B[0m\u001B[0m\n\u001B[1;32m    123\u001B[0m         \u001B[0morder\u001B[0m \u001B[0;34m=\u001B[0m \u001B[0;34m'C'\u001B[0m\u001B[0;34m\u001B[0m\u001B[0;34m\u001B[0m\u001B[0m\n\u001B[1;32m    124\u001B[0m         \u001B[0mrequirements\u001B[0m\u001B[0;34m.\u001B[0m\u001B[0mremove\u001B[0m\u001B[0;34m(\u001B[0m\u001B[0;34m'C'\u001B[0m\u001B[0;34m)\u001B[0m\u001B[0;34m\u001B[0m\u001B[0;34m\u001B[0m\u001B[0m\n\u001B[1;32m    125\u001B[0m \u001B[0;34m\u001B[0m\u001B[0m\n\u001B[0;32m--> 126\u001B[0;31m     \u001B[0marr\u001B[0m \u001B[0;34m=\u001B[0m \u001B[0marray\u001B[0m\u001B[0;34m(\u001B[0m\u001B[0ma\u001B[0m\u001B[0;34m,\u001B[0m \u001B[0mdtype\u001B[0m\u001B[0;34m=\u001B[0m\u001B[0mdtype\u001B[0m\u001B[0;34m,\u001B[0m \u001B[0morder\u001B[0m\u001B[0;34m=\u001B[0m\u001B[0morder\u001B[0m\u001B[0;34m,\u001B[0m \u001B[0mcopy\u001B[0m\u001B[0;34m=\u001B[0m\u001B[0;32mFalse\u001B[0m\u001B[0;34m,\u001B[0m \u001B[0msubok\u001B[0m\u001B[0;34m=\u001B[0m\u001B[0msubok\u001B[0m\u001B[0;34m)\u001B[0m\u001B[0;34m\u001B[0m\u001B[0;34m\u001B[0m\u001B[0m\n\u001B[0m\u001B[1;32m    127\u001B[0m \u001B[0;34m\u001B[0m\u001B[0m\n\u001B[1;32m    128\u001B[0m     \u001B[0;32mfor\u001B[0m \u001B[0mprop\u001B[0m \u001B[0;32min\u001B[0m \u001B[0mrequirements\u001B[0m\u001B[0;34m:\u001B[0m\u001B[0;34m\u001B[0m\u001B[0;34m\u001B[0m\u001B[0m\n\u001B[1;32m    129\u001B[0m         \u001B[0;32mif\u001B[0m \u001B[0;32mnot\u001B[0m \u001B[0marr\u001B[0m\u001B[0;34m.\u001B[0m\u001B[0mflags\u001B[0m\u001B[0;34m[\u001B[0m\u001B[0mprop\u001B[0m\u001B[0;34m]\u001B[0m\u001B[0;34m:\u001B[0m\u001B[0;34m\u001B[0m\u001B[0;34m\u001B[0m\u001B[0m\n",
      "\u001B[0;32m~/.virtualenvs/invest-bot/venv/lib/python3.10/site-packages/pandas/core/generic.py\u001B[0m in \u001B[0;36m?\u001B[0;34m(self, dtype)\u001B[0m\n\u001B[1;32m   1996\u001B[0m     \u001B[0;32mdef\u001B[0m \u001B[0m__array__\u001B[0m\u001B[0;34m(\u001B[0m\u001B[0mself\u001B[0m\u001B[0;34m,\u001B[0m \u001B[0mdtype\u001B[0m\u001B[0;34m:\u001B[0m \u001B[0mnpt\u001B[0m\u001B[0;34m.\u001B[0m\u001B[0mDTypeLike\u001B[0m \u001B[0;34m|\u001B[0m \u001B[0;32mNone\u001B[0m \u001B[0;34m=\u001B[0m \u001B[0;32mNone\u001B[0m\u001B[0;34m)\u001B[0m \u001B[0;34m->\u001B[0m \u001B[0mnp\u001B[0m\u001B[0;34m.\u001B[0m\u001B[0mndarray\u001B[0m\u001B[0;34m:\u001B[0m\u001B[0;34m\u001B[0m\u001B[0;34m\u001B[0m\u001B[0m\n\u001B[1;32m   1997\u001B[0m         \u001B[0mvalues\u001B[0m \u001B[0;34m=\u001B[0m \u001B[0mself\u001B[0m\u001B[0;34m.\u001B[0m\u001B[0m_values\u001B[0m\u001B[0;34m\u001B[0m\u001B[0;34m\u001B[0m\u001B[0m\n\u001B[0;32m-> 1998\u001B[0;31m         \u001B[0marr\u001B[0m \u001B[0;34m=\u001B[0m \u001B[0mnp\u001B[0m\u001B[0;34m.\u001B[0m\u001B[0masarray\u001B[0m\u001B[0;34m(\u001B[0m\u001B[0mvalues\u001B[0m\u001B[0;34m,\u001B[0m \u001B[0mdtype\u001B[0m\u001B[0;34m=\u001B[0m\u001B[0mdtype\u001B[0m\u001B[0;34m)\u001B[0m\u001B[0;34m\u001B[0m\u001B[0;34m\u001B[0m\u001B[0m\n\u001B[0m\u001B[1;32m   1999\u001B[0m         if (\n\u001B[1;32m   2000\u001B[0m             \u001B[0mastype_is_view\u001B[0m\u001B[0;34m(\u001B[0m\u001B[0mvalues\u001B[0m\u001B[0;34m.\u001B[0m\u001B[0mdtype\u001B[0m\u001B[0;34m,\u001B[0m \u001B[0marr\u001B[0m\u001B[0;34m.\u001B[0m\u001B[0mdtype\u001B[0m\u001B[0;34m)\u001B[0m\u001B[0;34m\u001B[0m\u001B[0;34m\u001B[0m\u001B[0m\n\u001B[1;32m   2001\u001B[0m             \u001B[0;32mand\u001B[0m \u001B[0musing_copy_on_write\u001B[0m\u001B[0;34m(\u001B[0m\u001B[0;34m)\u001B[0m\u001B[0;34m\u001B[0m\u001B[0;34m\u001B[0m\u001B[0m\n",
      "\u001B[0;31mTypeError\u001B[0m: float() argument must be a string or a real number, not 'Timestamp'"
     ]
    }
   ],
   "source": [
    "decompose_data = seasonal_decompose(df[[\"Datetime\", \"Close\"]], model=\"additive\")\n",
    "decompose_data.plot();"
   ],
   "metadata": {
    "collapsed": false,
    "ExecuteTime": {
     "end_time": "2023-07-16T17:17:53.577772500Z",
     "start_time": "2023-07-16T17:17:51.529432300Z"
    }
   }
  },
  {
   "cell_type": "code",
   "execution_count": null,
   "outputs": [],
   "source": [
    "seasonality=decompose_data.seasonal\n",
    "seasonality.plot(color='green')"
   ],
   "metadata": {
    "collapsed": false,
    "ExecuteTime": {
     "start_time": "2023-07-16T17:17:53.574775500Z"
    }
   }
  },
  {
   "cell_type": "code",
   "execution_count": 149,
   "outputs": [],
   "source": [
    "def create_dataset(dataset, lookback):\n",
    "    \"\"\"Transform a time series into a prediction dataset\n",
    "\n",
    "    Args:\n",
    "        dataset: A numpy array of time series, first dimension is the time steps\n",
    "        lookback: Size of window for prediction\n",
    "    \"\"\"\n",
    "    X, y = [], []\n",
    "    for i in range(len(dataset)-lookback):\n",
    "        feature = dataset[i:i+lookback]\n",
    "        target = dataset[i+1:i+lookback+1]\n",
    "        X.append(feature)\n",
    "        y.append(target)\n",
    "    return torch.tensor(X).to(device='cuda'), torch.tensor(y).to(device='cuda')"
   ],
   "metadata": {
    "collapsed": false,
    "ExecuteTime": {
     "end_time": "2023-07-16T17:54:54.102923300Z",
     "start_time": "2023-07-16T17:54:54.078374600Z"
    }
   }
  },
  {
   "cell_type": "code",
   "execution_count": 166,
   "outputs": [],
   "source": [
    "lookback = 4\n",
    "X_train, y_train = create_dataset(train, lookback=lookback)\n",
    "X_test, y_test = create_dataset(test, lookback=lookback)"
   ],
   "metadata": {
    "collapsed": false,
    "ExecuteTime": {
     "end_time": "2023-07-16T18:00:21.734932800Z",
     "start_time": "2023-07-16T18:00:21.725345500Z"
    }
   }
  },
  {
   "cell_type": "code",
   "execution_count": 167,
   "outputs": [],
   "source": [
    "class AirModel(nn.Module):\n",
    "    def __init__(self):\n",
    "        super().__init__()\n",
    "        self.lstm = nn.LSTM(input_size=1, hidden_size=50, num_layers=1, batch_first=True)\n",
    "        self.linear = nn.Linear(50, 1)\n",
    "    def forward(self, x):\n",
    "        x, _ = self.lstm(x)\n",
    "        x = self.linear(x)\n",
    "        return x"
   ],
   "metadata": {
    "collapsed": false,
    "ExecuteTime": {
     "end_time": "2023-07-16T18:00:22.829311500Z",
     "start_time": "2023-07-16T18:00:22.772428800Z"
    }
   }
  },
  {
   "cell_type": "code",
   "execution_count": 168,
   "outputs": [],
   "source": [
    "model = AirModel().cuda()\n",
    "\n",
    "optimizer = optim.Adam(model.parameters())\n",
    "loss_fn = nn.MSELoss()\n",
    "loader = data.DataLoader(data.TensorDataset(X_train, y_train), shuffle=True, batch_size=8)"
   ],
   "metadata": {
    "collapsed": false,
    "ExecuteTime": {
     "end_time": "2023-07-16T18:00:24.064324100Z",
     "start_time": "2023-07-16T18:00:24.051989Z"
    }
   }
  },
  {
   "cell_type": "code",
   "execution_count": 169,
   "outputs": [
    {
     "name": "stdout",
     "output_type": "stream",
     "text": [
      "Epoch 0: train RMSE 311.9801, test RMSE 310.8335\n",
      "Epoch 5: train RMSE 301.8985, test RMSE 300.7520\n",
      "Epoch 10: train RMSE 292.8197, test RMSE 291.6732\n",
      "Epoch 15: train RMSE 284.0456, test RMSE 282.8991\n",
      "Epoch 20: train RMSE 274.9225, test RMSE 273.7761\n",
      "Epoch 25: train RMSE 265.4886, test RMSE 264.3421\n",
      "Epoch 30: train RMSE 256.5378, test RMSE 255.3915\n",
      "Epoch 35: train RMSE 247.7504, test RMSE 246.6041\n",
      "Epoch 40: train RMSE 239.0709, test RMSE 237.9247\n",
      "Epoch 45: train RMSE 230.4754, test RMSE 229.3294\n"
     ]
    }
   ],
   "source": [
    "n_epochs = 50\n",
    "for epoch in range(n_epochs):\n",
    "    model.train()\n",
    "    for X_batch, y_batch in loader:\n",
    "        y_pred = model(X_batch)\n",
    "        loss = loss_fn(y_pred, y_batch)\n",
    "        optimizer.zero_grad()\n",
    "        loss.backward()\n",
    "        optimizer.step()\n",
    "    # Validation\n",
    "    if epoch % 5 != 0:\n",
    "        continue\n",
    "    model.eval()\n",
    "    with torch.no_grad():\n",
    "        y_pred = model(X_train)\n",
    "        train_rmse = np.sqrt(loss_fn(y_pred, y_train).cpu())\n",
    "        y_pred = model(X_test)\n",
    "        test_rmse = np.sqrt(loss_fn(y_pred, y_test).cpu())\n",
    "    print(\"Epoch %d: train RMSE %.4f, test RMSE %.4f\" % (epoch, train_rmse, test_rmse))"
   ],
   "metadata": {
    "collapsed": false,
    "ExecuteTime": {
     "end_time": "2023-07-16T18:00:43.554447700Z",
     "start_time": "2023-07-16T18:00:24.714157700Z"
    }
   }
  },
  {
   "cell_type": "markdown",
   "source": [
    "Epoch 0: train RMSE 225.9859, test RMSE 425.2122\n",
    "Epoch 100: train RMSE 172.4392, test RMSE 368.9426\n",
    "Epoch 200: train RMSE 133.0862, test RMSE 325.3759\n",
    "Epoch 300: train RMSE 102.7508, test RMSE 287.8822\n",
    "Epoch 400: train RMSE 79.7657, test RMSE 254.9194\n",
    "Epoch 500: train RMSE 61.5963, test RMSE 224.4099\n",
    "Epoch 600: train RMSE 48.6969, test RMSE 197.8571\n",
    "Epoch 700: train RMSE 39.4884, test RMSE 174.5672\n",
    "Epoch 800: train RMSE 33.1966, test RMSE 154.4976\n",
    "Epoch 900: train RMSE 28.7506, test RMSE 137.2870\n",
    "Epoch 1000: train RMSE 25.8828, test RMSE 123.0088\n",
    "Epoch 1100: train RMSE 24.3598, test RMSE 111.6567\n",
    "Epoch 1200: train RMSE 22.7956, test RMSE 102.5211\n",
    "Epoch 1300: train RMSE 21.9605, test RMSE 94.9683\n",
    "Epoch 1400: train RMSE 21.1549, test RMSE 89.9546\n",
    "Epoch 1500: train RMSE 20.8716, test RMSE 86.1452\n",
    "Epoch 1600: train RMSE 20.4186, test RMSE 82.6925\n",
    "Epoch 1700: train RMSE 20.0747, test RMSE 79.7411\n",
    "Epoch 1800: train RMSE 20.1011, test RMSE 79.2771\n",
    "Epoch 1900: train RMSE 20.5987, test RMSE 76.6618"
   ],
   "metadata": {
    "collapsed": false
   }
  },
  {
   "cell_type": "code",
   "execution_count": 170,
   "outputs": [
    {
     "data": {
      "text/plain": "<Figure size 640x480 with 1 Axes>",
      "image/png": "[encoded data removed]"
     },
     "metadata": {},
     "output_type": "display_data"
    }
   ],
   "source": [
    "with torch.no_grad():\n",
    "    # shift train predictions for plotting\n",
    "    train_plot = np.ones_like(timeseries) * np.nan\n",
    "    y_pred = model(X_train)\n",
    "    y_pred = y_pred[:, -1, :]\n",
    "    train_plot[lookback:train_size] = model(X_train).cpu()[:, -1, :]\n",
    "    # shift test predictions for plotting\n",
    "    test_plot = np.ones_like(timeseries) * np.nan\n",
    "    test_plot[train_size+lookback:len(timeseries)] = model(X_test).cpu()[:, -1, :]\n",
    "# plot\n",
    "plt.plot(timeseries)\n",
    "plt.plot(train_plot, c='r')\n",
    "plt.plot(test_plot, c='g')\n",
    "plt.show()"
   ],
   "metadata": {
    "collapsed": false,
    "ExecuteTime": {
     "end_time": "2023-07-16T18:00:43.639499300Z",
     "start_time": "2023-07-16T18:00:43.558499400Z"
    }
   }
  },
  {
   "cell_type": "code",
   "execution_count": null,
   "outputs": [],
   "source": [],
   "metadata": {
    "collapsed": false
   }
  }
 ],
 "metadata": {
  "kernelspec": {
   "display_name": "Python 3",
   "language": "python",
   "name": "python3"
  },
  "language_info": {
   "codemirror_mode": {
    "name": "ipython",
    "version": 2
   },
   "file_extension": ".py",
   "mimetype": "text/x-python",
   "name": "python",
   "nbconvert_exporter": "python",
   "pygments_lexer": "ipython2",
   "version": "2.7.6"
  }
 },
 "nbformat": 4,
 "nbformat_minor": 0
}
