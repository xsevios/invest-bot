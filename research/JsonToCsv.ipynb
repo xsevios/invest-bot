{
 "cells": [
  {
   "cell_type": "code",
   "execution_count": 1,
   "id": "initial_id",
   "metadata": {
    "collapsed": true,
    "ExecuteTime": {
     "end_time": "2023-12-23T20:39:31.716475900Z",
     "start_time": "2023-12-23T20:39:31.371517100Z"
    }
   },
   "outputs": [],
   "source": [
    "import pandas as pd\n",
    "import os"
   ]
  },
  {
   "cell_type": "code",
   "outputs": [
    {
     "data": {
      "text/plain": "'/mnt/d/Development/Projects/invest-bot/research'"
     },
     "execution_count": 2,
     "metadata": {},
     "output_type": "execute_result"
    }
   ],
   "source": [
    "os.getcwd()"
   ],
   "metadata": {
    "collapsed": false,
    "ExecuteTime": {
     "end_time": "2023-12-23T20:39:33.148827600Z",
     "start_time": "2023-12-23T20:39:33.138297600Z"
    }
   },
   "id": "bcd42447eb8fa7e6",
   "execution_count": 2
  },
  {
   "cell_type": "code",
   "outputs": [],
   "source": [
    "with open('data/imoex.json', encoding='utf-8') as inputfile:\n",
    "    df = pd.read_json(inputfile)"
   ],
   "metadata": {
    "collapsed": false,
    "ExecuteTime": {
     "end_time": "2023-12-23T20:42:16.128273Z",
     "start_time": "2023-12-23T20:42:15.724098500Z"
    }
   },
   "id": "8a9f2d5fd483b8d5",
   "execution_count": 3
  },
  {
   "cell_type": "code",
   "outputs": [
    {
     "data": {
      "text/plain": "              o        h        l        c  v                  time source\n0       2153.92  2154.10  2153.81  2154.08  0  2022-12-30T15:20:00Z      t\n1       2154.08  2154.22  2153.98  2154.13  0  2022-12-30T15:21:00Z      t\n2       2154.16  2154.26  2153.93  2154.07  0  2022-12-30T15:22:00Z      t\n3       2154.09  2154.16  2153.96  2154.04  0  2022-12-30T15:23:00Z      t\n4       2154.02  2154.16  2153.56  2153.79  0  2022-12-30T15:24:00Z      t\n...         ...      ...      ...      ... ..                   ...    ...\n129995  3096.27  3096.32  3096.05  3096.32  0  2023-12-22T15:37:00Z      t\n129996  3096.27  3096.30  3096.00  3096.21  0  2023-12-22T15:38:00Z      t\n129997  3096.18  3096.85  3096.07  3096.59  0  2023-12-22T15:39:00Z      t\n129998  3096.59  3096.59  3096.59  3096.59  0  2023-12-22T15:40:00Z      t\n129999  3092.58  3092.58  3092.58  3092.58  0  2023-12-22T15:51:00Z      t\n\n[130000 rows x 7 columns]",
      "text/html": "<div>\n<style scoped>\n    .dataframe tbody tr th:only-of-type {\n        vertical-align: middle;\n    }\n\n    .dataframe tbody tr th {\n        vertical-align: top;\n    }\n\n    .dataframe thead th {\n        text-align: right;\n    }\n</style>\n<table border=\"1\" class=\"dataframe\">\n  <thead>\n    <tr style=\"text-align: right;\">\n      <th></th>\n      <th>o</th>\n      <th>h</th>\n      <th>l</th>\n      <th>c</th>\n      <th>v</th>\n      <th>time</th>\n      <th>source</th>\n    </tr>\n  </thead>\n  <tbody>\n    <tr>\n      <th>0</th>\n      <td>2153.92</td>\n      <td>2154.10</td>\n      <td>2153.81</td>\n      <td>2154.08</td>\n      <td>0</td>\n      <td>2022-12-30T15:20:00Z</td>\n      <td>t</td>\n    </tr>\n    <tr>\n      <th>1</th>\n      <td>2154.08</td>\n      <td>2154.22</td>\n      <td>2153.98</td>\n      <td>2154.13</td>\n      <td>0</td>\n      <td>2022-12-30T15:21:00Z</td>\n      <td>t</td>\n    </tr>\n    <tr>\n      <th>2</th>\n      <td>2154.16</td>\n      <td>2154.26</td>\n      <td>2153.93</td>\n      <td>2154.07</td>\n      <td>0</td>\n      <td>2022-12-30T15:22:00Z</td>\n      <td>t</td>\n    </tr>\n    <tr>\n      <th>3</th>\n      <td>2154.09</td>\n      <td>2154.16</td>\n      <td>2153.96</td>\n      <td>2154.04</td>\n      <td>0</td>\n      <td>2022-12-30T15:23:00Z</td>\n      <td>t</td>\n    </tr>\n    <tr>\n      <th>4</th>\n      <td>2154.02</td>\n      <td>2154.16</td>\n      <td>2153.56</td>\n      <td>2153.79</td>\n      <td>0</td>\n      <td>2022-12-30T15:24:00Z</td>\n      <td>t</td>\n    </tr>\n    <tr>\n      <th>...</th>\n      <td>...</td>\n      <td>...</td>\n      <td>...</td>\n      <td>...</td>\n      <td>...</td>\n      <td>...</td>\n      <td>...</td>\n    </tr>\n    <tr>\n      <th>129995</th>\n      <td>3096.27</td>\n      <td>3096.32</td>\n      <td>3096.05</td>\n      <td>3096.32</td>\n      <td>0</td>\n      <td>2023-12-22T15:37:00Z</td>\n      <td>t</td>\n    </tr>\n    <tr>\n      <th>129996</th>\n      <td>3096.27</td>\n      <td>3096.30</td>\n      <td>3096.00</td>\n      <td>3096.21</td>\n      <td>0</td>\n      <td>2023-12-22T15:38:00Z</td>\n      <td>t</td>\n    </tr>\n    <tr>\n      <th>129997</th>\n      <td>3096.18</td>\n      <td>3096.85</td>\n      <td>3096.07</td>\n      <td>3096.59</td>\n      <td>0</td>\n      <td>2023-12-22T15:39:00Z</td>\n      <td>t</td>\n    </tr>\n    <tr>\n      <th>129998</th>\n      <td>3096.59</td>\n      <td>3096.59</td>\n      <td>3096.59</td>\n      <td>3096.59</td>\n      <td>0</td>\n      <td>2023-12-22T15:40:00Z</td>\n      <td>t</td>\n    </tr>\n    <tr>\n      <th>129999</th>\n      <td>3092.58</td>\n      <td>3092.58</td>\n      <td>3092.58</td>\n      <td>3092.58</td>\n      <td>0</td>\n      <td>2023-12-22T15:51:00Z</td>\n      <td>t</td>\n    </tr>\n  </tbody>\n</table>\n<p>130000 rows × 7 columns</p>\n</div>"
     },
     "execution_count": 7,
     "metadata": {},
     "output_type": "execute_result"
    }
   ],
   "source": [
    "df"
   ],
   "metadata": {
    "collapsed": false,
    "ExecuteTime": {
     "end_time": "2023-12-23T20:43:40.600903600Z",
     "start_time": "2023-12-23T20:43:40.561299800Z"
    }
   },
   "id": "3ac70a849cce768b",
   "execution_count": 7
  },
  {
   "cell_type": "code",
   "outputs": [
    {
     "data": {
      "text/plain": "           open     high      low    close                  time\n0       2153.92  2154.10  2153.81  2154.08  2022-12-30T15:20:00Z\n1       2154.08  2154.22  2153.98  2154.13  2022-12-30T15:21:00Z\n2       2154.16  2154.26  2153.93  2154.07  2022-12-30T15:22:00Z\n3       2154.09  2154.16  2153.96  2154.04  2022-12-30T15:23:00Z\n4       2154.02  2154.16  2153.56  2153.79  2022-12-30T15:24:00Z\n...         ...      ...      ...      ...                   ...\n129995  3096.27  3096.32  3096.05  3096.32  2023-12-22T15:37:00Z\n129996  3096.27  3096.30  3096.00  3096.21  2023-12-22T15:38:00Z\n129997  3096.18  3096.85  3096.07  3096.59  2023-12-22T15:39:00Z\n129998  3096.59  3096.59  3096.59  3096.59  2023-12-22T15:40:00Z\n129999  3092.58  3092.58  3092.58  3092.58  2023-12-22T15:51:00Z\n\n[130000 rows x 5 columns]",
      "text/html": "<div>\n<style scoped>\n    .dataframe tbody tr th:only-of-type {\n        vertical-align: middle;\n    }\n\n    .dataframe tbody tr th {\n        vertical-align: top;\n    }\n\n    .dataframe thead th {\n        text-align: right;\n    }\n</style>\n<table border=\"1\" class=\"dataframe\">\n  <thead>\n    <tr style=\"text-align: right;\">\n      <th></th>\n      <th>open</th>\n      <th>high</th>\n      <th>low</th>\n      <th>close</th>\n      <th>time</th>\n    </tr>\n  </thead>\n  <tbody>\n    <tr>\n      <th>0</th>\n      <td>2153.92</td>\n      <td>2154.10</td>\n      <td>2153.81</td>\n      <td>2154.08</td>\n      <td>2022-12-30T15:20:00Z</td>\n    </tr>\n    <tr>\n      <th>1</th>\n      <td>2154.08</td>\n      <td>2154.22</td>\n      <td>2153.98</td>\n      <td>2154.13</td>\n      <td>2022-12-30T15:21:00Z</td>\n    </tr>\n    <tr>\n      <th>2</th>\n      <td>2154.16</td>\n      <td>2154.26</td>\n      <td>2153.93</td>\n      <td>2154.07</td>\n      <td>2022-12-30T15:22:00Z</td>\n    </tr>\n    <tr>\n      <th>3</th>\n      <td>2154.09</td>\n      <td>2154.16</td>\n      <td>2153.96</td>\n      <td>2154.04</td>\n      <td>2022-12-30T15:23:00Z</td>\n    </tr>\n    <tr>\n      <th>4</th>\n      <td>2154.02</td>\n      <td>2154.16</td>\n      <td>2153.56</td>\n      <td>2153.79</td>\n      <td>2022-12-30T15:24:00Z</td>\n    </tr>\n    <tr>\n      <th>...</th>\n      <td>...</td>\n      <td>...</td>\n      <td>...</td>\n      <td>...</td>\n      <td>...</td>\n    </tr>\n    <tr>\n      <th>129995</th>\n      <td>3096.27</td>\n      <td>3096.32</td>\n      <td>3096.05</td>\n      <td>3096.32</td>\n      <td>2023-12-22T15:37:00Z</td>\n    </tr>\n    <tr>\n      <th>129996</th>\n      <td>3096.27</td>\n      <td>3096.30</td>\n      <td>3096.00</td>\n      <td>3096.21</td>\n      <td>2023-12-22T15:38:00Z</td>\n    </tr>\n    <tr>\n      <th>129997</th>\n      <td>3096.18</td>\n      <td>3096.85</td>\n      <td>3096.07</td>\n      <td>3096.59</td>\n      <td>2023-12-22T15:39:00Z</td>\n    </tr>\n    <tr>\n      <th>129998</th>\n      <td>3096.59</td>\n      <td>3096.59</td>\n      <td>3096.59</td>\n      <td>3096.59</td>\n      <td>2023-12-22T15:40:00Z</td>\n    </tr>\n    <tr>\n      <th>129999</th>\n      <td>3092.58</td>\n      <td>3092.58</td>\n      <td>3092.58</td>\n      <td>3092.58</td>\n      <td>2023-12-22T15:51:00Z</td>\n    </tr>\n  </tbody>\n</table>\n<p>130000 rows × 5 columns</p>\n</div>"
     },
     "execution_count": 10,
     "metadata": {},
     "output_type": "execute_result"
    }
   ],
   "source": [
    "df = df.drop(columns=[\"source\", \"v\"])\n",
    "df = df.rename(columns={'o': 'open', 'h': 'high', 'l': 'low', 'c': 'close'})\n",
    "df"
   ],
   "metadata": {
    "collapsed": false,
    "ExecuteTime": {
     "end_time": "2023-12-23T20:47:12.018293800Z",
     "start_time": "2023-12-23T20:47:11.951681100Z"
    }
   },
   "id": "bc527ba4c094ea0f",
   "execution_count": 10
  },
  {
   "cell_type": "code",
   "outputs": [],
   "source": [
    "df.to_csv('data/imoex.csv', encoding='utf-8', index=False)"
   ],
   "metadata": {
    "collapsed": false,
    "ExecuteTime": {
     "end_time": "2023-12-23T20:47:23.572163500Z",
     "start_time": "2023-12-23T20:47:23.206948400Z"
    }
   },
   "id": "ec6cfa4b6fd7b3cf",
   "execution_count": 11
  },
  {
   "cell_type": "code",
   "outputs": [],
   "source": [],
   "metadata": {
    "collapsed": false
   },
   "id": "602d33cb181ee1d4"
  }
 ],
 "metadata": {
  "kernelspec": {
   "display_name": "Python 3",
   "language": "python",
   "name": "python3"
  },
  "language_info": {
   "codemirror_mode": {
    "name": "ipython",
    "version": 2
   },
   "file_extension": ".py",
   "mimetype": "text/x-python",
   "name": "python",
   "nbconvert_exporter": "python",
   "pygments_lexer": "ipython2",
   "version": "2.7.6"
  }
 },
 "nbformat": 4,
 "nbformat_minor": 5
}
