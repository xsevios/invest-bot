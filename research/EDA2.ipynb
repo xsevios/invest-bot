{
 "cells": [
  {
   "cell_type": "code",
   "execution_count": null,
   "id": "ddff65db-66c6-448c-8428-ce77cedc9946",
   "metadata": {},
   "outputs": [],
   "source": [
    "import pandas as pd\n",
    "import numpy"
   ]
  },
  {
   "cell_type": "code",
   "execution_count": null,
   "id": "2b512706-6cfb-4975-9515-444ff1be3ed5",
   "metadata": {},
   "outputs": [],
   "source": [
    "import matplotlib.pyplot as plt\n",
    "\n",
    "import matplotlib.cbook as cbook\n",
    "import matplotlib.dates as mdates\n"
   ]
  },
  {
   "cell_type": "code",
   "execution_count": null,
   "id": "b6091336eda051ec",
   "metadata": {
    "collapsed": false
   },
   "outputs": [],
   "source": [
    "import sys\n",
    "print(sys.version)"
   ]
  },
  {
   "cell_type": "markdown",
   "id": "0b3ad992-a1a4-4f11-9f38-258bb268153e",
   "metadata": {},
   "source": [
    "## Порядок полей в файлах\n",
    "### Идентификатор инструмента (FIGI)\n",
    "### Дата и время начала свечи (UTC)\n",
    "### Цена открытия (open)\n",
    "### Цена закрытия (close)\n",
    "### Максимальная цена за интервал (high)\n",
    "### Минимальная цена за интервал (low)\n",
    "### Объем в лотах (volume)"
   ]
  },
  {
   "cell_type": "code",
   "execution_count": null,
   "id": "c78361a6-9f2e-40f3-bba0-20598fd9bece",
   "metadata": {},
   "outputs": [],
   "source": [
    "COLS_NAMES = ['figi', 'utc', 'open', 'close', 'high', 'low', 'volume']"
   ]
  },
  {
   "cell_type": "code",
   "execution_count": null,
   "id": "0a174f6a-7f12-4bef-819e-e7b6955a2df3",
   "metadata": {},
   "outputs": [],
   "source": [
    "!pwd"
   ]
  },
  {
   "cell_type": "code",
   "execution_count": null,
   "id": "d079505c-faba-491f-b901-f7282a0ba7c4",
   "metadata": {},
   "outputs": [],
   "source": [
    "df1 = pd.read_csv('./data/sber_2023/e6123145-9665-43e0-8413-cd61b8aa9b13_20230101.csv', sep=';', names=[i for i in range(8)], usecols=range(1,7))"
   ]
  },
  {
   "cell_type": "code",
   "execution_count": null,
   "id": "fe65365b-567d-4ab3-b25c-aef23f1ebda1",
   "metadata": {},
   "outputs": [],
   "source": [
    "df1.rename(columns={i:COLS_NAMES[i] for i in range(1,7)}, inplace=True)"
   ]
  },
  {
   "cell_type": "code",
   "execution_count": null,
   "id": "fbdf2380-bee2-40a9-b37a-ab7f7c405f85",
   "metadata": {},
   "outputs": [],
   "source": [
    "df1['utc'] = pd.to_datetime(df1['utc'])"
   ]
  },
  {
   "cell_type": "code",
   "execution_count": null,
   "id": "24ccb40a-ecd6-4ac2-a107-db28ac2f733b",
   "metadata": {},
   "outputs": [],
   "source": [
    "df1 = df1.set_index('utc')"
   ]
  },
  {
   "cell_type": "code",
   "execution_count": null,
   "id": "4c3007e4-4d41-4f5c-8fb3-83fb0a419d4c",
   "metadata": {},
   "outputs": [],
   "source": [
    "df1.head(3)"
   ]
  },
  {
   "cell_type": "code",
   "execution_count": null,
   "id": "23f0e16f-62d7-4739-9f82-b094a8927c81",
   "metadata": {},
   "outputs": [],
   "source": [
    "!ls ./data"
   ]
  },
  {
   "cell_type": "code",
   "execution_count": null,
   "id": "d3ad5490-a40b-4556-ab9f-525179d144ec",
   "metadata": {},
   "outputs": [],
   "source": [
    "import os\n",
    "\n",
    "df = df1[0:0].copy()\n",
    "\n",
    "for file in os.listdir('./data/sber_2023/'):\n",
    "    filename = os.fsdecode(file)\n",
    "    df_tmp = pd.read_csv(f'./data/sber_2023/{filename}', sep=';', names=[i for i in range(8)], usecols=range(1,7))    \n",
    "    df_tmp.rename(columns={i:COLS_NAMES[i] for i in range(1,7)}, inplace=True)    \n",
    "    # df_tmp['utc'] = pd.to_datetime(df_tmp['utc'])\n",
    "    # df_tmp = df_tmp.set_index('utc')\n",
    "    \n",
    "    df = pd.concat([df, df_tmp])\n",
    "    \n",
    "df = df.sort_values(by='utc')\n",
    "df['utc'] = pd.to_datetime(df['utc'])\n",
    "df = df.set_index('utc')\n",
    "df.head(3)"
   ]
  },
  {
   "cell_type": "code",
   "execution_count": null,
   "id": "98d9766c-6de7-462e-923e-59a0c121e2f1",
   "metadata": {
    "tags": []
   },
   "outputs": [],
   "source": [
    "fig, axes = plt.subplots(1,2,figsize=(20,8))\n",
    "\n",
    "axes[0].plot('open', 'g-', data=df, label='open price', alpha=0.9)\n",
    "axes[0].plot('close', 'r--', data=df, label='close price', alpha=0.9, linewidth=2)\n",
    "\n",
    "axes[1].plot('high', 'g-', data=df, label='highest price', alpha=0.9)\n",
    "axes[1].plot('low', 'r--', data=df, label='lowest price', alpha=0.9, linewidth=2)\n",
    "\n",
    "for ax in axes:\n",
    "    ax.xaxis.set_major_locator(mdates.AutoDateLocator())\n",
    "    # ax.xaxis.set_minor_locator(mdates.MinuteLocator(interval=10))\n",
    "    ax.grid(True)\n",
    "    ax.legend()\n",
    "    ax.set_ylabel(r'Price')"
   ]
  },
  {
   "cell_type": "code",
   "execution_count": null,
   "id": "81fc83f3-334a-4432-b2e3-7ffd9fb50810",
   "metadata": {
    "tags": []
   },
   "outputs": [],
   "source": [
    "fig, axes = plt.subplots(1,1,figsize=(20,8))\n",
    "\n",
    "axes.plot('open', 'g-', data=df, label='open price', alpha=0.9)\n",
    "axes.plot('close', 'r--', data=df, label='close price', alpha=0.9, linewidth=1)\n",
    "axes.xaxis.set_major_locator(mdates.AutoDateLocator())\n",
    "# axes.xaxis.set_major_locator(mdates.MonthLocator())\n",
    "# ax.xaxis.set_minor_locator(mdates.DayLocator(interval=10))\n",
    "ax.xaxis.set_minor_locator(mdates.AutoDateLocator())\n",
    "axes.grid(True)\n",
    "axes.legend()\n",
    "axes.set_ylabel(r'Price')\n",
    "plt.show();"
   ]
  },
  {
   "cell_type": "code",
   "execution_count": null,
   "id": "e711de23-5493-4271-9d28-2698bd36db1d",
   "metadata": {
    "tags": []
   },
   "outputs": [],
   "source": [
    "fig, axes = plt.subplots(1,1,figsize=(20,8))\n",
    "\n",
    "axes.plot('open', 'g-', data=df['2023-02-01':'2023-02-15'], label='open price', alpha=0.9)\n",
    "axes.plot('close', 'r--', data=df['2023-02-01':'2023-02-15'], label='close price', alpha=0.9, linewidth=1)\n",
    "axes.xaxis.set_major_locator(mdates.AutoDateLocator())\n",
    "# axes.xaxis.set_major_locator(mdates.MonthLocator())\n",
    "# ax.xaxis.set_minor_locator(mdates.DayLocator(interval=10))\n",
    "ax.xaxis.set_minor_locator(mdates.AutoDateLocator())\n",
    "axes.grid(True)\n",
    "axes.legend()\n",
    "axes.set_ylabel(r'Price')\n",
    "plt.show();"
   ]
  },
  {
   "cell_type": "code",
   "execution_count": null,
   "id": "bc31817e",
   "metadata": {},
   "outputs": [],
   "source": [
    "import holidays\n",
    "ru_holidays = holidays.RUS()\n",
    "\n",
    "\n",
    "df = df[df.index > '2023-01-10']\n",
    "df = df[df.index.dayofweek < 5]\n",
    "df = df[~df.index.isin(ru_holidays.keys())]"
   ]
  },
  {
   "cell_type": "code",
   "execution_count": null,
   "id": "9815400c",
   "metadata": {},
   "outputs": [],
   "source": [
    "df = df[(df.index.hour >= 7) & (df.index.hour < 15)]"
   ]
  },
  {
   "cell_type": "code",
   "execution_count": null,
   "id": "1428c01a",
   "metadata": {},
   "outputs": [],
   "source": [
    "df"
   ]
  },
  {
   "cell_type": "code",
   "execution_count": null,
   "id": "dafc4ced",
   "metadata": {},
   "outputs": [],
   "source": [
    "63810 / (8 * 60)"
   ]
  },
  {
   "cell_type": "code",
   "execution_count": null,
   "id": "cf5bdc19-8cad-4e6b-b356-9cd9700dafbb",
   "metadata": {
    "tags": []
   },
   "outputs": [],
   "source": [
    "fig, axes = plt.subplots(1,1,figsize=(20,8))\n",
    "\n",
    "axes.plot('open', 'g-', data=df['2023-02-01':'2023-02-15'], label='open price', alpha=0.9)\n",
    "axes.plot('close', 'r--', data=df['2023-02-01':'2023-02-15'], label='close price', alpha=0.9, linewidth=1)\n",
    "axes.xaxis.set_major_locator(mdates.AutoDateLocator())\n",
    "# axes.xaxis.set_major_locator(mdates.MonthLocator())\n",
    "# ax.xaxis.set_minor_locator(mdates.DayLocator(interval=10))\n",
    "ax.xaxis.set_minor_locator(mdates.AutoDateLocator())\n",
    "axes.grid(True)\n",
    "axes.legend()\n",
    "axes.set_ylabel(r'Price')\n",
    "plt.show();"
   ]
  },
  {
   "cell_type": "code",
   "execution_count": null,
   "id": "820b953f",
   "metadata": {},
   "outputs": [],
   "source": [
    "import pandas as pd\n",
    "import numpy as np\n",
    "from sklearn.model_selection import TimeSeriesSplit\n",
    "from sklearn.metrics import mean_squared_error\n",
    "from math import sqrt\n"
   ]
  },
  {
   "cell_type": "code",
   "execution_count": null,
   "id": "c5897bc4",
   "metadata": {},
   "outputs": [],
   "source": [
    "from sklearn.metrics import roc_auc_score\n",
    "from sklearn.model_selection import train_test_split\n",
    "import torch\n",
    "\n",
    "# LightAutoML presets, task and report generation\n",
    "from lightautoml.automl.presets.tabular_presets import TabularAutoML, TabularUtilizedAutoML\n",
    "from lightautoml.tasks import Task\n",
    "from lightautoml.report.report_deco import ReportDeco"
   ]
  },
  {
   "cell_type": "code",
   "execution_count": null,
   "id": "97a0336c",
   "metadata": {},
   "outputs": [],
   "source": [
    "N_THREADS = 4\n",
    "N_FOLDS = 5\n",
    "RANDOM_STATE = 42\n",
    "TEST_SIZE = 0.2\n",
    "TIMEOUT = 300\n",
    "TARGET_NAME = 'close'\n",
    "\n",
    "task = Task('reg', metric='mse')\n",
    "roles = {\n",
    "    'target': TARGET_NAME,\n",
    "    'drop': ['utc']\n",
    "}"
   ]
  },
  {
   "cell_type": "code",
   "execution_count": null,
   "id": "957322ee",
   "metadata": {},
   "outputs": [],
   "source": [
    "np.random.seed(RANDOM_STATE)\n",
    "torch.set_num_threads(N_THREADS)"
   ]
  },
  {
   "cell_type": "code",
   "execution_count": null,
   "id": "bb02e3ad",
   "metadata": {},
   "outputs": [],
   "source": [
    "len(df)/60"
   ]
  },
  {
   "cell_type": "code",
   "execution_count": null,
   "id": "77b91a7e",
   "metadata": {},
   "outputs": [],
   "source": [
    "tscv = TimeSeriesSplit(n_splits=2, test_size=150)"
   ]
  },
  {
   "cell_type": "code",
   "execution_count": null,
   "id": "56d9c8f6",
   "metadata": {},
   "outputs": [],
   "source": [
    "tmp = df.resample('H').mean().dropna().reset_index()[['utc', 'close', 'volume']]\n",
    "tmp['utc'] = tmp['utc'].dt.tz_convert(None)\n",
    "print(tmp.head())\n",
    "\n",
    "window_size = 10\n",
    "tmp['MA'] = tmp['close'].rolling(window=window_size).mean()\n",
    "tmp['ROC'] = tmp['close'].pct_change()\n",
    "tmp['Volatility'] = tmp['close'].pct_change().std()\n",
    "tmp['EMA'] = tmp['close'].ewm(span=10, adjust=False).mean()\n",
    "tmp['StdDev'] = tmp['close'].rolling(window=window_size).std()\n",
    "tmp['UpperBB'] = tmp['MA'] + (2 * tmp['StdDev'])\n",
    "tmp['LowerBB'] = tmp['MA'] - (2 * tmp['StdDev'])\n",
    "tmp['VolumeChange'] = tmp['volume'].pct_change()\n",
    "tmp['Momentum'] = tmp['close'].pct_change(periods=window_size)\n",
    "\n",
    "delta = tmp['close'].diff()\n",
    "up, down = delta.copy(), delta.copy()\n",
    "up[up < 0] = 0\n",
    "down[down > 0] = 0\n",
    "avg_gain = up.rolling(window=window_size).mean()\n",
    "avg_loss = abs(down.rolling(window=window_size).mean())\n",
    "rs = avg_gain / avg_loss\n",
    "tmp['RSI'] = 100 - (100 / (1 + rs))\n",
    "\n",
    "tmp['close'] = tmp['close'].shift(-1)\n",
    "# tmp['volume'] = tmp['volume'].shift(-1)\n",
    "tmp.dropna(subset=['close'], inplace=True)\n",
    "# tmp.dropna(subset=['volume'], inplace=True)\n",
    "\n",
    "tmp = tmp.fillna(method='bfill')\n",
    "\n"
   ]
  },
  {
   "cell_type": "code",
   "execution_count": null,
   "id": "4e4da3a6",
   "metadata": {},
   "outputs": [],
   "source": [
    "tmp.head(7)"
   ]
  },
  {
   "cell_type": "code",
   "execution_count": null,
   "id": "cec0e1f6",
   "metadata": {},
   "outputs": [],
   "source": [
    "# import time\n",
    "\n",
    "rmse_values = []\n",
    "for train_index, test_index in tscv.split(tmp):\n",
    "   # tmp_df = tmp.reset_index().rename(columns={'index':'num'})\n",
    "   train, test = tmp.iloc[train_index], tmp.iloc[test_index]\n",
    "   \n",
    "   # print(train)\n",
    "   automl = TabularAutoML(\n",
    "    task = task,\n",
    "    timeout = TIMEOUT,\n",
    "    cpu_limit = N_THREADS,\n",
    "    reader_params = {'n_jobs': N_THREADS, 'random_state': RANDOM_STATE},\n",
    "   )\n",
    "\n",
    "   out_of_fold_predictions = automl.fit_predict(train, roles=roles, verbose = 0)\n",
    "   test_predictions = automl.predict(test)\n",
    "\n",
    "\n",
    "   rmse = round(sqrt(mean_squared_error(test['close'], test_predictions.data[:, 0])), 2)\n",
    "   rmse_values.append(rmse)\n",
    "\n",
    "   fig, axes = plt.subplots(1,1,figsize=(12,7))\n",
    "   axes.plot(train.index, train['close'], color='royalblue', label='train')\n",
    "   # axes[1].plot(train.index, train['close'], color='royalblue', label='train')\n",
    "   axes.plot(test.index, test['close'], color='green', label='test')\n",
    "   axes.plot(test.index, test_predictions.data[:, 0], color='red', label='predictions')\n",
    "   plt.grid(True)\n",
    "   plt.legend()\n",
    "   plt.show();\n",
    "\n",
    "\n",
    "overall_rmse = round(np.mean(rmse_values), 2)\n",
    "print(\"Overall RMSE:\", overall_rmse)\n"
   ]
  },
  {
   "cell_type": "code",
   "execution_count": null,
   "id": "c65167e2",
   "metadata": {},
   "outputs": [],
   "source": [
    "import joblib"
   ]
  },
  {
   "cell_type": "code",
   "execution_count": null,
   "id": "ce9d1c4d",
   "metadata": {},
   "outputs": [],
   "source": [
    "!pwd"
   ]
  },
  {
   "cell_type": "code",
   "execution_count": null,
   "id": "56f9727c",
   "metadata": {},
   "outputs": [],
   "source": [
    "joblib.dump(automl, 'models/automl_model_v1.pkl')"
   ]
  },
  {
   "cell_type": "code",
   "execution_count": null,
   "id": "91e6c751",
   "metadata": {},
   "outputs": [],
   "source": [
    "model = joblib.load('models/automl_model_v1.pkl')"
   ]
  },
  {
   "cell_type": "code",
   "execution_count": null,
   "id": "8f888072",
   "metadata": {},
   "outputs": [],
   "source": [
    "model.get_feature_scores()"
   ]
  },
  {
   "cell_type": "code",
   "execution_count": null,
   "id": "c53e018c",
   "metadata": {},
   "outputs": [],
   "source": []
  }
 ],
 "metadata": {
  "interpreter": {
   "hash": "201f1b4038dffb4c6751655281afe604dea13cfaed561b9843a99ea909229d43"
  },
  "kernelspec": {
   "name": "invest-bot",
   "language": "python",
   "display_name": "invest-bot"
  },
  "language_info": {
   "codemirror_mode": {
    "name": "ipython",
    "version": 3
   },
   "file_extension": ".py",
   "mimetype": "text/x-python",
   "name": "python",
   "nbconvert_exporter": "python",
   "pygments_lexer": "ipython3",
   "version": "3.10.12"
  }
 },
 "nbformat": 4,
 "nbformat_minor": 5
}
